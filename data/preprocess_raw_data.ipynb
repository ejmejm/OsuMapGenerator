{
 "cells": [
  {
   "cell_type": "code",
   "execution_count": 1,
   "metadata": {},
   "outputs": [],
   "source": [
    "import os\n",
    "import glob\n",
    "import zipfile\n",
    "import hashlib\n",
    "import pandas as pd\n",
    "from tqdm import tqdm"
   ]
  },
  {
   "cell_type": "code",
   "execution_count": 2,
   "metadata": {},
   "outputs": [],
   "source": [
    "def create_file_hash(file_path):\n",
    "    \"\"\"Create a hash of the file contents.\"\"\"\n",
    "    with open(file_path, 'rb') as f:\n",
    "        return hashlib.sha256(f.read()).hexdigest()\n",
    "\n",
    "def create_data_hash(data):\n",
    "    \"\"\"Create a hash of the data.\"\"\"\n",
    "    return hashlib.sha256(data).hexdigest()\n",
    "\n",
    "def get_map_audio_path(map_data, file_options=None):\n",
    "    \"\"\"Get the name of the map audio file.\"\"\"\n",
    "    start_idx = map_data.find(b'AudioFilename: ')\n",
    "    end_idx = map_data.find(b'\\n', start_idx)\n",
    "    audio_path = map_data[start_idx + len(b'AudioFilename: '):end_idx]\n",
    "    audio_path = audio_path.decode('utf-8').strip()\n",
    "\n",
    "    if file_options is None or audio_path in file_options:\n",
    "        return audio_path\n",
    "\n",
    "    for file_option in file_options:\n",
    "        if file_option.lower() == audio_path.lower():\n",
    "            return file_option\n",
    "\n",
    "def get_map_mode(map_data):\n",
    "    \"\"\"Get the mode of the map.\"\"\"\n",
    "    start_idx = map_data.find(b'Mode:')\n",
    "    end_idx = map_data.find(b'\\n', start_idx)\n",
    "    mode = map_data[start_idx + len(b'Mode:'):end_idx]\n",
    "    return mode.decode('utf-8').strip()\n",
    "\n",
    "def change_map_audio_path(map_data, new_name):\n",
    "    start_idx = map_data.find(b'AudioFilename: ')\n",
    "    end_idx = map_data.find(b'\\n', start_idx)\n",
    "    return map_data[:start_idx] \\\n",
    "        + b'AudioFilename: ' + new_name.encode('utf-8') \\\n",
    "        + map_data[end_idx:]"
   ]
  },
  {
   "cell_type": "code",
   "execution_count": 3,
   "metadata": {},
   "outputs": [],
   "source": [
    "raw_data_path = 'raw_beatmaps/'\n",
    "formatted_data_path = 'formatted_beatmaps/'\n",
    "\n",
    "songs_dir = os.path.join(formatted_data_path, 'songs')\n",
    "maps_dir = os.path.join(formatted_data_path, 'maps')\n",
    "song_mapping_path = os.path.join(formatted_data_path, 'song_mapping.csv')"
   ]
  },
  {
   "cell_type": "code",
   "execution_count": 4,
   "metadata": {},
   "outputs": [],
   "source": [
    "for dir in [songs_dir, maps_dir]:\n",
    "  os.makedirs(dir, exist_ok=True)"
   ]
  },
  {
   "cell_type": "code",
   "execution_count": 5,
   "metadata": {},
   "outputs": [],
   "source": [
    "song_mapping = {}\n",
    "osz_paths = glob.glob(os.path.join(raw_data_path, '*.osz'))"
   ]
  },
  {
   "cell_type": "code",
   "execution_count": 6,
   "metadata": {},
   "outputs": [
    {
     "name": "stderr",
     "output_type": "stream",
     "text": [
      " 57%|█████▋    | 9821/17150 [04:20<02:55, 41.76it/s]"
     ]
    },
    {
     "name": "stdout",
     "output_type": "stream",
     "text": [
      "Error with file raw_beatmaps\\386117.osz: File is not a zip file\n"
     ]
    },
    {
     "name": "stderr",
     "output_type": "stream",
     "text": [
      " 76%|███████▌  | 13060/17150 [05:41<02:00, 34.07it/s]"
     ]
    },
    {
     "name": "stdout",
     "output_type": "stream",
     "text": [
      "Error with file raw_beatmaps\\6335.osz/An Cafe - Kakusei Heroism ~The Hero Without A Name~ (Weinmagier) [Insane].osu: Bad CRC-32 for file 'Darker_than_Black_-_Kakusei_Heroism_The_Hero_Without_A_Name.mp3'\n",
      "Error with file raw_beatmaps\\6335.osz/An Cafe - Kakusei Heroism ~The Hero Without A Name~ (Weinmagier) [Normal].osu: Bad CRC-32 for file 'Darker_than_Black_-_Kakusei_Heroism_The_Hero_Without_A_Name.mp3'\n",
      "Error with file raw_beatmaps\\6335.osz/An Cafe - Kakusei Heroism ~The Hero Without A Name~ (Weinmagier) [Konata!].osu: Bad CRC-32 for file 'Darker_than_Black_-_Kakusei_Heroism_The_Hero_Without_A_Name.mp3'\n"
     ]
    },
    {
     "name": "stderr",
     "output_type": "stream",
     "text": [
      " 86%|████████▌ | 14673/17150 [06:28<01:03, 39.03it/s]"
     ]
    },
    {
     "name": "stdout",
     "output_type": "stream",
     "text": [
      "Error with file raw_beatmaps\\772055.osz: File is not a zip file\n"
     ]
    },
    {
     "name": "stderr",
     "output_type": "stream",
     "text": [
      "100%|██████████| 17150/17150 [07:40<00:00, 37.23it/s]\n"
     ]
    }
   ],
   "source": [
    "song_idx = 0\n",
    "map_idx = 0\n",
    "song_hashes = {}\n",
    "\n",
    "for osz_path in tqdm(osz_paths):\n",
    "  try:\n",
    "    with zipfile.ZipFile(osz_path, 'r') as archive:\n",
    "      zip_files = set(archive.namelist())\n",
    "      loaded_audio = {}\n",
    "      for file_name in zip_files:\n",
    "        try:\n",
    "          if file_name.endswith('.osu'):\n",
    "            # load beatmap file\n",
    "            with archive.open(file_name, 'r') as beatmap_file:\n",
    "              # Get name of audio paired audio file\n",
    "              map_data = beatmap_file.read()\n",
    "              # Skip map if not standard mode\n",
    "              map_mode = get_map_mode(map_data)\n",
    "              if map_mode != '0':\n",
    "                continue\n",
    "              audio_path = get_map_audio_path(map_data, zip_files)\n",
    "              if audio_path in loaded_audio:\n",
    "                # If other difficulties have used it, reuse the same hash\n",
    "                audio_hash = loaded_audio[audio_path]\n",
    "              else:\n",
    "                # Otherwise, create a new hash\n",
    "                with archive.open(audio_path, 'r') as audio_file:\n",
    "                  audio_data = audio_file.read()\n",
    "                audio_hash = create_data_hash(audio_data)\n",
    "                loaded_audio[audio_path] = audio_hash\n",
    "\n",
    "              # If the this same audio has not been used before,\n",
    "              # save it to the songs directory,\n",
    "              # otherwise, get the new name of the audio file and reuse it\n",
    "              if audio_hash not in song_hashes:\n",
    "                new_song_name = f'{song_idx}.mp3'\n",
    "                new_song_path = os.path.join(songs_dir, new_song_name)\n",
    "                with open(new_song_path, 'wb') as song_file:\n",
    "                  song_file.write(audio_data)\n",
    "                song_hashes[audio_hash] = new_song_name\n",
    "                song_idx += 1\n",
    "              else:\n",
    "                new_song_name = song_hashes[audio_hash]\n",
    "\n",
    "              # Change the audio file name in the beatmap file\n",
    "              new_map_data = change_map_audio_path(map_data, new_song_name)\n",
    "\n",
    "              # Copy osu file to maps directory\n",
    "              new_map_name = f'{map_idx}.osu'\n",
    "              new_map_path = os.path.join(maps_dir, new_map_name)\n",
    "              with open(new_map_path, 'wb') as new_map_file:\n",
    "                new_map_file.write(new_map_data)\n",
    "\n",
    "              map_idx += 1\n",
    "              song_mapping[new_map_name] = new_song_name\n",
    "        except Exception as e:\n",
    "          print(f'Error with file {osz_path}/{file_name}: {e}')\n",
    "  except Exception as e:\n",
    "    print(f'Error with file {osz_path}: {e}')"
   ]
  },
  {
   "cell_type": "code",
   "execution_count": 10,
   "metadata": {},
   "outputs": [],
   "source": [
    "# Save song mapping\n",
    "song_mapping = pd.DataFrame.from_dict(song_mapping, orient='index')\n",
    "song_mapping.columns = ['song']\n",
    "song_mapping.to_csv(song_mapping_path)"
   ]
  }
 ],
 "metadata": {
  "kernelspec": {
   "display_name": "Python 3.9.7 ('ml2')",
   "language": "python",
   "name": "python3"
  },
  "language_info": {
   "codemirror_mode": {
    "name": "ipython",
    "version": 3
   },
   "file_extension": ".py",
   "mimetype": "text/x-python",
   "name": "python",
   "nbconvert_exporter": "python",
   "pygments_lexer": "ipython3",
   "version": "3.9.7"
  },
  "orig_nbformat": 4,
  "vscode": {
   "interpreter": {
    "hash": "d1fe9e103656f2266082d3c8033b60b2c460ce6c85d6ed8c56af72efc68894ec"
   }
  }
 },
 "nbformat": 4,
 "nbformat_minor": 2
}
